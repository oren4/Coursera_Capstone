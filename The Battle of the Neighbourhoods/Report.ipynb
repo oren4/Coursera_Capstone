{
 "cells": [
  {
   "cell_type": "markdown",
   "metadata": {},
   "source": [
    "![Mumbai Skyline](https://upload.wikimedia.org/wikipedia/commons/thumb/1/14/Mumbai_Skyline_at_Night.jpg/1920px-Mumbai_Skyline_at_Night.jpg)"
   ]
  },
  {
   "cell_type": "markdown",
   "metadata": {},
   "source": [
    "# Analysis of Potential Small Business and Real Estate Investment Opportunities in Smart Cities."
   ]
  },
  {
   "cell_type": "markdown",
   "metadata": {},
   "source": [
    "## 1.\tIntroduction\n",
    "\n",
    "India is a developing country, from a Gross Domestic Product of $1.676 Trillion in 2010 it has grown to a $2.875 Trillion economy in 2019 (The World Bank, 2020). This means that it has a real potential for growth and investment opportunities. Through this study, the aim is to identify the ideal business type and location to make an investment in the below selected cities:\n",
    "1.\tAhmedabad\n",
    "2.\tBengaluru\n",
    "3.\tKalyan - Dombivili\n",
    "4.\tNagpur\n",
    "5.\tPimpri - Chinchwad\n",
    "6.\tPune\n",
    "7.\tThane\n",
    "8.\tVisakhapatnam\n",
    "\n",
    "The target audience of this study would be real estate investors, entrepreneurs, members of the business community who are looking to expand their real estate portfolios and businesses into new locations with significant promise of growth and low input costs. This study is also aimed at local government administrative officials who are looking to explore the types of businesses in their localities and how they can make decisions to influence growth in investments in their administrative areas.\n",
    "\n",
    "These cities have been selected due to their status as a smart city. With the launch of the Smart Cities Mission in 2015, India started paving a new pathway towards transforming urban management with the power of digital technologies. The concept recognizes the value of enhancing engagement among all four stakeholders of the quadruple-helix model—Government, citizens, academia, and industry, along with improvements in the internal workflow and decision-making processes of city Governments. In this context, the need for city Governments to take ‘digital leadership’ has become more pronounced (Ministry of Home Affairs, Government of India, 2020). \n",
    "\n",
    "This project aims to leverage the data available through the smart cities programme to identify the best investment opportunities that are available for small businesses or real estate in these cities.\n"
   ]
  },
  {
   "cell_type": "markdown",
   "metadata": {},
   "source": [
    "### 1.1\tWhat are Smart Cities?\n",
    "\n",
    "The first question is what is meant by a ‘smart city’. The answer is, there is no universally accepted definition of a smart city. It means different things to different people. The conceptualisation of Smart City, therefore, varies from city to city and country to country, depending on the level of development, willingness to change and reform, resources and aspirations of the city residents. A smart city would have a different connotation in India than, say, Europe. Even in India, there is no one way of defining a smart city.\n",
    "\n",
    "\n",
    "\n",
    "Some definitional boundaries are required to guide cities in the Mission. In the imagination of any city dweller in India, the picture of a smart city contains a wish list of infrastructure and services that describes his or her level of aspiration. To provide for the aspirations and needs of the citizens, urban planners ideally aim at developing the entire urban eco-system, which is represented by the four pillars of comprehensive development-institutional, physical, social and economic infrastructure. This can be a long term goal and cities can work towards developing such comprehensive infrastructure incrementally, adding on layers of ‘smartness’ (Government of India, n.d.).\n"
   ]
  },
  {
   "cell_type": "markdown",
   "metadata": {},
   "source": [
    "### 1.2\tThe Idea\n",
    "\n",
    "Through the use of the Foursquare API the small businesses and venues in the cities will be identified. Assuming that the theory of the network effect holds in any urban agglomeration, any investment in these sorts of businesses in these cities should see a positive return on investment due to an existing infrastructure, business friendly policies and a customer and  supplier pool. A network effect (also called network externality or demand-side economies of scale) is the effect described in economics and business that an additional user of goods or services has on the value of that product to others. When a network effect is present, the value of a product or service increases according to the number of others using it. The classic example is the telephone, where a greater number of users increases the value to each. A positive externality is created when a telephone is purchased without its owner intending to create value for other users, but does so regardless. Online social networks work similarly, with platforms like Twitter, Facebook, and WhatsApp increasing in value to each member as more users join (Wikipedia, n.d.).\n",
    "\n",
    "After the popular types of businesses in the area are obtained, the locations are clustered based on those businesses to form Business Clusters.\n",
    "\n",
    "After this is done, a  regression analysis of the below indicators of the city is performed, with the housing price indices of the city as the target variable. This will help predict the housing price indices of the city based on the below data.\n",
    "\n",
    "1.\tTransport\n",
    "2.\tUtilities\n",
    "3.\tEducation\n",
    "4.\tTaxes\n",
    "5.\tHealthcare\n",
    "6.\tCrime\n",
    "7.\tRecurrences of natural calamities e.g. floods, earthquakes, tsunami’s etc\n",
    "\n",
    "Once the relationship is set and a predictive model is in place, the city with the best forecast of the housing price index can be selected for a decision on the type of business and location to make an investment.\n"
   ]
  },
  {
   "cell_type": "markdown",
   "metadata": {},
   "source": [
    "## The Data\n",
    "\n",
    "\n",
    "### 2.1\tLocation data:\n",
    "•\tA list of postal codes from all over India, was obtained with the available latitude and longitude data from the  www.geonames.org. This data is licensed under the creative commons and is free to use.\n",
    "•\tUsing the Foursquare API we will obtain the list of venues in these postal codes.\n",
    "### 2.2\tCity Indicators:\n",
    "•\tThe data related to Transport, Utilities, Education, Taxes, Healthcare, Crime and Natural Calamities were obtained from the Smart Cities portal.\n",
    "### 2.3\tHousing Price Index:\n",
    "•\tThe housing price index data was obtained from the National Housing Bank City-wise Housing Price Indices data\n",
    "\n"
   ]
  },
  {
   "cell_type": "markdown",
   "metadata": {},
   "source": [
    "## References\n",
    "1.\tGovernment of India. (n.d.). Smart Cities. Retrieved from About Smart Cities: http://smartcities.gov.in/content/innerpage/what-is-smart-city.php\n",
    "2.\tMinistry of Home Affairs, Government of India. (2020, August). DataSmart Cities Strategy. Retrieved from DataSmart Cities: https://smartnet.niua.org/dsc/datasmartcity-stratergy.php\n",
    "3.\tThe World Bank. (2020, August). worldbank.org. Retrieved from Data: https://data.worldbank.org/country/india\n",
    "4.\tWikipedia. (n.d.). Network Effect. Retrieved from Wikipedia.Org: https://en.wikipedia.org/wiki/Network_effect\n",
    "\n"
   ]
  },
  {
   "cell_type": "code",
   "execution_count": null,
   "metadata": {},
   "outputs": [],
   "source": []
  }
 ],
 "metadata": {
  "kernelspec": {
   "display_name": "Python 3",
   "language": "python",
   "name": "python3"
  },
  "language_info": {
   "codemirror_mode": {
    "name": "ipython",
    "version": 3
   },
   "file_extension": ".py",
   "mimetype": "text/x-python",
   "name": "python",
   "nbconvert_exporter": "python",
   "pygments_lexer": "ipython3",
   "version": "3.6.5"
  }
 },
 "nbformat": 4,
 "nbformat_minor": 4
}
